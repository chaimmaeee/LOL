{
  "nbformat": 4,
  "nbformat_minor": 0,
  "metadata": {
    "accelerator": "GPU",
    "colab": {
      "name": "transU-Net1.ipynb",
      "provenance": [],
      "collapsed_sections": [],
      "include_colab_link": true
    },
    "kernelspec": {
      "display_name": "Python 3",
      "language": "python",
      "name": "python3"
    },
    "language_info": {
      "codemirror_mode": {
        "name": "ipython",
        "version": 3
      },
      "file_extension": ".py",
      "mimetype": "text/x-python",
      "name": "python",
      "nbconvert_exporter": "python",
      "pygments_lexer": "ipython3",
      "version": "3.6.8"
    }
  },
  "cells": [
    {
      "cell_type": "markdown",
      "metadata": {
        "id": "view-in-github",
        "colab_type": "text"
      },
      "source": [
        "<a href=\"https://colab.research.google.com/github/chaimmaeee/LOL/blob/main/transU_Net1.ipynb\" target=\"_parent\"><img src=\"https://colab.research.google.com/assets/colab-badge.svg\" alt=\"Open In Colab\"/></a>"
      ]
    },
    {
      "cell_type": "markdown",
      "metadata": {
        "id": "emMWfqxVR3F4"
      },
      "source": [
        "## **TransU-Net**\n",
        "\n",
        "\n"
      ]
    },
    {
      "cell_type": "code",
      "metadata": {
        "id": "Ra9SvW0-UcOc"
      },
      "source": [
        "import numpy as np\n",
        "from glob import glob"
      ],
      "execution_count": null,
      "outputs": []
    },
    {
      "cell_type": "code",
      "metadata": {
        "id": "w3W4N-MvUcOh"
      },
      "source": [
        "from tensorflow import keras"
      ],
      "execution_count": null,
      "outputs": []
    },
    {
      "cell_type": "markdown",
      "metadata": {
        "id": "bPVw81hCUcOi"
      },
      "source": [
        "This example requires `keras-unet-collection`:\n",
        "```\n",
        "pip install keras-unet-collection\n",
        "```"
      ]
    },
    {
      "cell_type": "code",
      "metadata": {
        "colab": {
          "base_uri": "https://localhost:8080/"
        },
        "id": "1Gd5YPjcYVSF",
        "outputId": "822927de-7469-4823-c96f-fbf1f4d1beed"
      },
      "source": [
        "!pip install keras-unet-collection"
      ],
      "execution_count": null,
      "outputs": [
        {
          "output_type": "stream",
          "text": [
            "Collecting keras-unet-collection\n",
            "\u001b[?25l  Downloading https://files.pythonhosted.org/packages/07/78/e6065dfefabd1a72acbeffc4d42414af639e234fbc9959b08f56a3972b73/keras_unet_collection-0.1.10-py3-none-any.whl (67kB)\n",
            "\r\u001b[K     |████▉                           | 10kB 15.9MB/s eta 0:00:01\r\u001b[K     |█████████▊                      | 20kB 21.9MB/s eta 0:00:01\r\u001b[K     |██████████████▌                 | 30kB 12.3MB/s eta 0:00:01\r\u001b[K     |███████████████████▍            | 40kB 9.5MB/s eta 0:00:01\r\u001b[K     |████████████████████████▏       | 51kB 5.0MB/s eta 0:00:01\r\u001b[K     |█████████████████████████████   | 61kB 5.3MB/s eta 0:00:01\r\u001b[K     |████████████████████████████████| 71kB 3.6MB/s \n",
            "\u001b[?25hInstalling collected packages: keras-unet-collection\n",
            "Successfully installed keras-unet-collection-0.1.10\n"
          ],
          "name": "stdout"
        }
      ]
    },
    {
      "cell_type": "code",
      "metadata": {
        "id": "jrotyrQ4UcOk"
      },
      "source": [
        "from keras_unet_collection import models, utils"
      ],
      "execution_count": null,
      "outputs": []
    },
    {
      "cell_type": "code",
      "metadata": {
        "colab": {
          "base_uri": "https://localhost:8080/"
        },
        "id": "yIN4RmYrK3rU",
        "outputId": "91e045af-a603-4f39-cd29-74b9f12ccc16"
      },
      "source": [
        "from google.colab import drive\n",
        "drive.mount('/content/drive')"
      ],
      "execution_count": null,
      "outputs": [
        {
          "output_type": "stream",
          "text": [
            "Mounted at /content/drive\n"
          ],
          "name": "stdout"
        }
      ]
    },
    {
      "cell_type": "code",
      "metadata": {
        "id": "owLjRINWUcOt"
      },
      "source": [
        "# file path after data extraction\n",
        "path_trainval_img = \"/content/drive/MyDrive/dataset0/train/image/\"\n",
        "path_trainval_mask = \"/content/drive/MyDrive/dataset0/train/mask/\"\n"
      ],
      "execution_count": null,
      "outputs": []
    },
    {
      "cell_type": "code",
      "metadata": {
        "id": "CkNzeNA8UcOz"
      },
      "source": [
        "trainval_input_names = np.array(sorted(glob(path_trainval_img+'*.jpg')))\n",
        "trainval_label_names = np.array(sorted(glob(path_trainval_mask+'*.tiff')))\n"
      ],
      "execution_count": null,
      "outputs": []
    },
    {
      "cell_type": "markdown",
      "metadata": {
        "id": "RYhHuPHRgRjc"
      },
      "source": [
        "Training-validation data split\n",
        "\n"
      ]
    },
    {
      "cell_type": "code",
      "metadata": {
        "colab": {
          "base_uri": "https://localhost:8080/"
        },
        "id": "2xFjEM3IUcO5",
        "outputId": "9ad7e110-513d-40a3-cd81-a1a15b5053c9"
      },
      "source": [
        "L = len(trainval_input_names)\n",
        "ind_all = utils.shuffle_ind(L)\n",
        "\n",
        "L_train = int(0.9*L); L_valid = L - L_train\n",
        "ind_train = ind_all[:L_train]; ind_valid = ind_all[L_train:]\n",
        "\n",
        "train_input_names = trainval_input_names[ind_train]\n",
        "train_label_names = trainval_label_names[ind_train]\n",
        "valid_input_names = trainval_input_names[ind_valid]\n",
        "valid_label_names = trainval_label_names[ind_valid]\n",
        "\n",
        "print(\"Training:validation = {}:{}\".format(L_train, L_valid))"
      ],
      "execution_count": null,
      "outputs": [
        {
          "output_type": "stream",
          "text": [
            "Training:validation = 46:6\n"
          ],
          "name": "stdout"
        }
      ]
    },
    {
      "cell_type": "markdown",
      "metadata": {
        "id": "5YaKOwvyUcO_"
      },
      "source": [
        "### Exploratory data analysis"
      ]
    },
    {
      "cell_type": "code",
      "metadata": {
        "id": "WV79EJdWUcPA"
      },
      "source": [
        "import matplotlib.pyplot as plt\n",
        "%matplotlib inline\n",
        "\n",
        "def ax_decorate_box(ax):\n",
        "    [j.set_linewidth(0) for j in ax.spines.values()]\n",
        "    ax.tick_params(axis=\"both\", which=\"both\", bottom=False, top=False, \\\n",
        "               labelbottom=False, left=False, right=False, labelleft=False)\n",
        "    return ax"
      ],
      "execution_count": null,
      "outputs": []
    },
    {
      "cell_type": "code",
      "metadata": {
        "id": "0GTlc2JCUcPB"
      },
      "source": [
        "i_max = 10 # explore 10 images\n",
        "input_example = utils.image_to_array(train_input_names[:i_max], size=128, channel=3)\n",
        "label_example = utils.image_to_array(train_label_names[:i_max], size=128, channel=1)"
      ],
      "execution_count": null,
      "outputs": []
    },
    {
      "cell_type": "code",
      "metadata": {
        "id": "_ogVIprpw3Ga"
      },
      "source": [
        "import tensorflow as tf\n",
        "import os\n",
        "import random\n",
        "import numpy as np\n",
        "\n",
        "from tqdm import tqdm\n",
        "\n",
        "from skimage.io import imread, imshow\n",
        "from skimage.transform import resize\n",
        "import matplotlib.pyplot as plt\n",
        "\n"
      ],
      "execution_count": null,
      "outputs": []
    },
    {
      "cell_type": "code",
      "metadata": {
        "colab": {
          "base_uri": "https://localhost:8080/",
          "height": 264
        },
        "id": "mJr8Ff0gUcPC",
        "outputId": "fe30fea9-43e9-46bd-810b-677935c68bd5"
      },
      "source": [
        "i_example = 2\n",
        "\n",
        "fig, AX = plt.subplots(1, 2, figsize=(7, 3))\n",
        "plt.subplots_adjust(0, 0, 1, 1, hspace=0, wspace=0.1)\n",
        "\n",
        "for ax in AX:\n",
        "    ax = ax_decorate_box(ax)\n",
        "    \n",
        "AX[0].pcolormesh(np.mean(input_example[i_example, ...], axis=-1), cmap= plt.cm.gray)\n",
        "AX[1].pcolormesh(label_example[i_example, ..., 0]>0, cmap=plt.cm.binary_r)\n",
        "AX[0].set_title(\"Original\", fontsize=14);\n",
        "AX[1].set_title(\"Segmentation mask\", fontsize=14);"
      ],
      "execution_count": null,
      "outputs": [
        {
          "output_type": "display_data",
          "data": {
            "image/png": "[encoded data removed]",
            "text/plain": [
              "<Figure size 504x216 with 2 Axes>"
            ]
          },
          "metadata": {
            "tags": []
          }
        }
      ]
    },
    {
      "cell_type": "code",
      "metadata": {
        "id": "CvX_teruZsUq"
      },
      "source": [
        "from keras_unet_collection import models\n"
      ],
      "execution_count": null,
      "outputs": []
    },
    {
      "cell_type": "markdown",
      "metadata": {
        "id": "-GXfVNKsgxaH"
      },
      "source": [
        "TransU-Net pretrained with VGG16 backbone"
      ]
    },
    {
      "cell_type": "code",
      "metadata": {
        "id": "k2uA-WmcUcPF",
        "colab": {
          "base_uri": "https://localhost:8080/"
        },
        "outputId": "c308f373-7157-4c3f-bad6-6320e1e42ff6"
      },
      "source": [
        "model = models.transunet_2d((128, 128, 3), filter_num=[64, 128, 256, 512, 1024], n_labels= 2, stack_num_down=2, stack_num_up=2,\n",
        "                 embed_dim=768, num_mlp = 3072, num_heads=12, num_transformer=12,\n",
        "                 activation='ReLU', mlp_activation='GELU', output_activation='Softmax', batch_norm=False, pool=True, unpool=True, \n",
        "                 backbone='VGG16', weights='imagenet', freeze_backbone=True, freeze_batch_norm=True, name='transunet')\n"
      ],
      "execution_count": null,
      "outputs": [
        {
          "output_type": "stream",
          "text": [
            "Downloading data from https://storage.googleapis.com/tensorflow/keras-applications/vgg16/vgg16_weights_tf_dim_ordering_tf_kernels_notop.h5\n",
            "58892288/58889256 [==============================] - 0s 0us/step\n"
          ],
          "name": "stdout"
        }
      ]
    },
    {
      "cell_type": "markdown",
      "metadata": {
        "id": "f11bAKL8UcPG"
      },
      "source": [
        "The second layer of the configured model, i.e., right after an input layer, is expected to be the VGG16 backbone."
      ]
    },
    {
      "cell_type": "code",
      "metadata": {
        "colab": {
          "base_uri": "https://localhost:8080/",
          "height": 35
        },
        "id": "QFvKm9-bUcPH",
        "outputId": "7554da93-fa3b-48d1-bbc2-d4b2755c72b9"
      },
      "source": [
        "model.layers[1].name"
      ],
      "execution_count": null,
      "outputs": [
        {
          "output_type": "execute_result",
          "data": {
            "application/vnd.google.colaboratory.intrinsic+json": {
              "type": "string"
            },
            "text/plain": [
              "'VGG16_backbone'"
            ]
          },
          "metadata": {
            "tags": []
          },
          "execution_count": 135
        }
      ]
    },
    {
      "cell_type": "markdown",
      "metadata": {
        "id": "TpR9v44wUcPI"
      },
      "source": [
        "For simplicity, this segmentation model is trained with cross-entropy loss with SGD optimizer and a learning rate of 1E-2."
      ]
    },
    {
      "cell_type": "code",
      "metadata": {
        "colab": {
          "base_uri": "https://localhost:8080/"
        },
        "id": "JQikzm9DUcPJ",
        "outputId": "92aa7d9e-1f77-4c89-bb5f-3242fd6fa04c"
      },
      "source": [
        "model.compile(loss=keras.losses.categorical_crossentropy, optimizer=keras.optimizers.SGD(lr=1e-4))"
      ],
      "execution_count": null,
      "outputs": [
        {
          "output_type": "stream",
          "text": [
            "/usr/local/lib/python3.7/dist-packages/tensorflow/python/keras/optimizer_v2/optimizer_v2.py:375: UserWarning: The `lr` argument is deprecated, use `learning_rate` instead.\n",
            "  \"The `lr` argument is deprecated, use `learning_rate` instead.\")\n"
          ],
          "name": "stderr"
        }
      ]
    },
    {
      "cell_type": "markdown",
      "metadata": {
        "id": "7FRs-ypcg9J7"
      },
      "source": [
        "..................\n"
      ]
    },
    {
      "cell_type": "markdown",
      "metadata": {
        "id": "7d2aI__UhRrJ"
      },
      "source": [
        "## **Training**\n",
        "\n",
        "with 60 epoches with early stopping  Each epoch containts 10 batches and each batch contains 2 samples."
      ]
    },
    {
      "cell_type": "markdown",
      "metadata": {
        "id": "FF5vh4T1_DTe"
      },
      "source": [
        "def target_data_process(target_array):\n",
        "    '''Converting tri-mask of {1, 2, 3} to three categories.'''\n",
        "    return keras.utils.to_categorical(target_array-1)"
      ]
    },
    {
      "cell_type": "code",
      "metadata": {
        "id": "xlClx3ZbUcPM"
      },
      "source": [
        "def input_data_process(input_array):\n",
        "    '''converting pixel vales to [0, 1]'''\n",
        "    return input_array/255.\n",
        "\n",
        "def target_data_process(target_array):\n",
        "    target_array[target_array>0]=1  \n",
        "    return keras.utils.to_categorical(target_array, num_classes=2)"
      ],
      "execution_count": null,
      "outputs": []
    },
    {
      "cell_type": "code",
      "metadata": {
        "id": "Pg_P3uzZUcPQ"
      },
      "source": [
        "valid_input = input_data_process(utils.image_to_array(valid_input_names, size=128, channel=3))\n",
        "valid_label = target_data_process(utils.image_to_array(valid_label_names, size=128, channel=1))"
      ],
      "execution_count": null,
      "outputs": []
    },
    {
      "cell_type": "code",
      "metadata": {
        "colab": {
          "base_uri": "https://localhost:8080/"
        },
        "id": "ApLREJcLUcPR",
        "outputId": "f3ba9b08-5fb7-4c3d-8a36-1487f24a1da1"
      },
      "source": [
        "N_epoch = 60 # number of epoches\n",
        "N_batch = 10 # number of batches per epoch\n",
        "N_sample = 2 # number of samples per batch\n",
        "\n",
        "tol = 0 # current early stopping patience\n",
        "max_tol = 2 # the max-allowed early stopping patience\n",
        "min_del = 0 # the lowest acceptable loss value reduction \n",
        "\n",
        "# loop over epoches\n",
        "for epoch in range(N_epoch):    \n",
        "    # initial loss record\n",
        "    if epoch == 0:\n",
        "        y_pred =model.predict([valid_input])\n",
        "        record = np.mean(keras.losses.categorical_crossentropy(valid_label, y_pred))\n",
        "        print('\\tInitial loss = {}'.format(record))\n",
        "    \n",
        "    # loop over batches\n",
        "    for step in range(N_batch):\n",
        "        # selecting smaples for the current batch\n",
        "        ind_train_shuffle = utils.shuffle_ind(L_train)[:N_sample]\n",
        "        \n",
        "        # batch data formation\n",
        "        ## augmentation is not applied\n",
        "        train_input = input_data_process(utils.image_to_array(train_input_names[ind_train_shuffle], size=128, channel=3))\n",
        "        train_label = target_data_process(utils.image_to_array(train_label_names[ind_train_shuffle], size=128, channel=1))\n",
        "        \n",
        "        # train on batch\n",
        "        loss_ = model.train_on_batch([train_input,],\n",
        "                                     [train_label, train_label, train_label, train_label, train_label,])\n",
        "        # ** training loss is not stored ** #\n",
        "        \n",
        "    # epoch-end validation\n",
        "    y_pred = model.predict([valid_input])\n",
        "    record_temp = np.mean(keras.losses.categorical_crossentropy(valid_label, y_pred))\n",
        "    # ** validation loss is not stored ** #\n",
        "    \n",
        "    # if loss is reduced\n",
        "    if record - record_temp > min_del:\n",
        "        print('Validation performance is improved from {} to {}'.format(record, record_temp))\n",
        "        record = record_temp; # update the loss record\n",
        "        tol = 0; # refresh early stopping patience\n",
        "        # ** model checkpoint is not stored ** #\n",
        "        \n",
        "    # if loss not reduced\n",
        "    else:\n",
        "        print('Validation performance {} is NOT improved'.format(record_temp))\n",
        "        tol += 1\n",
        "        if tol >= max_tol:\n",
        "            print('Early stopping')\n",
        "            break;\n",
        "        else:\n",
        "            # Pass to the next epoch\n",
        "            continue; "
      ],
      "execution_count": null,
      "outputs": [
        {
          "output_type": "stream",
          "text": [
            "\tInitial loss = 0.820059061050415\n",
            "Validation performance is improved from 0.820059061050415 to 0.17473290860652924\n",
            "Validation performance is improved from 0.17473290860652924 to 0.14895375072956085\n",
            "Validation performance is improved from 0.14895375072956085 to 0.1397678256034851\n",
            "Validation performance is improved from 0.1397678256034851 to 0.13681462407112122\n",
            "Validation performance is improved from 0.13681462407112122 to 0.13360975682735443\n",
            "Validation performance is improved from 0.13360975682735443 to 0.13171546161174774\n",
            "Validation performance 0.1322403997182846 is NOT improved\n",
            "Validation performance is improved from 0.13171546161174774 to 0.13164222240447998\n",
            "Validation performance is improved from 0.13164222240447998 to 0.13085217773914337\n",
            "Validation performance is improved from 0.13085217773914337 to 0.13060647249221802\n",
            "Validation performance 0.13076312839984894 is NOT improved\n",
            "Validation performance 0.13106580078601837 is NOT improved\n",
            "Early stopping\n"
          ],
          "name": "stdout"
        }
      ]
    },
    {
      "cell_type": "markdown",
      "metadata": {
        "id": "cOcFD538UcPU"
      },
      "source": [
        "## Evaluation\n",
        "\n",
        "The testing set performance is evaluated with cross-entropy and example outputs."
      ]
    },
    {
      "cell_type": "code",
      "metadata": {
        "id": "mLG1a-TglX-k"
      },
      "source": [
        "path_test_img = \"/content/drive/MyDrive/dataset0/test/image/\"\n",
        "path_test_mask = \"/content/drive/MyDrive/dataset0/test/mask/\""
      ],
      "execution_count": null,
      "outputs": []
    },
    {
      "cell_type": "code",
      "metadata": {
        "id": "OIcmxZrLlcBd"
      },
      "source": [
        "test_input_names = np.array(sorted(glob(path_test_img+'*.jpg')))\n",
        "test_label_names = np.array(sorted(glob(path_test_mask+'*.tiff')))"
      ],
      "execution_count": null,
      "outputs": []
    },
    {
      "cell_type": "code",
      "metadata": {
        "id": "OVK4GcE2UcPW"
      },
      "source": [
        "test_input = input_data_process(utils.image_to_array(test_input_names, size=128, channel=3))\n",
        "test_label = target_data_process(utils.image_to_array(test_label_names, size=128, channel=1))"
      ],
      "execution_count": null,
      "outputs": []
    },
    {
      "cell_type": "code",
      "metadata": {
        "id": "rfhVzwXYUcPX"
      },
      "source": [
        "y_pred = model.predict([test_input])"
      ],
      "execution_count": null,
      "outputs": []
    },
    {
      "cell_type": "code",
      "metadata": {
        "id": "J80cSPhRUcPX",
        "colab": {
          "base_uri": "https://localhost:8080/"
        },
        "outputId": "dc30615b-a2d7-4552-f459-218f0d0bcef3"
      },
      "source": [
        "print('Testing set cross-entropy = {}'.format(np.mean(keras.losses.categorical_crossentropy(test_label, y_pred))))"
      ],
      "execution_count": null,
      "outputs": [
        {
          "output_type": "stream",
          "text": [
            "Testing set cross-entropy = 0.07213146984577179\n"
          ],
          "name": "stdout"
        }
      ]
    },
    {
      "cell_type": "markdown",
      "metadata": {
        "id": "MZVOtxCLUcPZ"
      },
      "source": [
        "**Example of outputs**\n",
        "\n",
        "As a common practice in computer vision projects, only nice looking samples are plotted : |"
      ]
    },
    {
      "cell_type": "code",
      "metadata": {
        "id": "2MiXRU5pUcPZ",
        "colab": {
          "base_uri": "https://localhost:8080/",
          "height": 354
        },
        "outputId": "1982b60e-4d8a-4014-c6c8-c37f28a7e1dd"
      },
      "source": [
        "i_sample = 2\n",
        "\n",
        "fig, AX = plt.subplots(1, 3, figsize=(13, (13-0.2)/3))\n",
        "plt.subplots_adjust(0, 0, 1, 1, hspace=0, wspace=0.1)\n",
        "for ax in AX:\n",
        "    ax = ax_decorate_box(ax)\n",
        "AX[0].pcolormesh(np.mean(test_input[i_sample, ...,], axis=-1), cmap=plt.cm.gray)\n",
        "AX[1].pcolormesh(y_pred[i_sample, ...,0], cmap=plt.cm.binary)\n",
        "AX[2].pcolormesh(test_label[i_sample, ..., 0], cmap=plt.cm.binary)\n",
        "\n",
        "AX[0].set_title(\"Original\", fontsize=14);\n",
        "AX[1].set_title(\"prediction\", fontsize=14);\n",
        "AX[2].set_title(\"Labeled truth\", fontsize=14);\n"
      ],
      "execution_count": null,
      "outputs": [
        {
          "output_type": "display_data",
          "data": {
            "image/png": "[encoded data removed]",
            "text/plain": [
              "<Figure size 936x307.2 with 3 Axes>"
            ]
          },
          "metadata": {
            "tags": []
          }
        }
      ]
    },
    {
      "cell_type": "markdown",
      "metadata": {
        "id": "pQbeXyMRUcPb"
      },
      "source": [
        "## Discussion\n",
        "\n",
        "A segmentation model is proposed based on the architecture of UNET 3+ and is trained using the Oxford-IIIT Pets dataset. Result evaluation indicates that this segmentation model can distinguish pixes of a pet from image backgrounds.\n",
        "\n",
        "Many technical details of this work, for example, network hyper-parameters and training strategy, can be improved for achieving better performance. "
      ]
    },
    {
      "cell_type": "code",
      "metadata": {
        "id": "Hqj7sRGfUcPc",
        "colab": {
          "base_uri": "https://localhost:8080/"
        },
        "outputId": "0f55db25-5d30-494e-a78d-243b8a6d43c5"
      },
      "source": [
        "model.summary()"
      ],
      "execution_count": null,
      "outputs": [
        {
          "output_type": "stream",
          "text": [
            "Model: \"transunet_model\"\n",
            "__________________________________________________________________________________________________\n",
            "Layer (type)                    Output Shape         Param #     Connected to                     \n",
            "==================================================================================================\n",
            "input_1 (InputLayer)            [(None, 128, 128, 3) 0                                            \n",
            "__________________________________________________________________________________________________\n",
            "VGG16_backbone (Functional)     [(None, 128, 128, 64 14714688    input_1[0][0]                    \n",
            "__________________________________________________________________________________________________\n",
            "transunet_conv_trans_before (Co (None, 8, 8, 1024)   524288      VGG16_backbone[0][4]             \n",
            "__________________________________________________________________________________________________\n",
            "patch_extract (patch_extract)   (None, 64, 1024)     0           transunet_conv_trans_before[0][0]\n",
            "__________________________________________________________________________________________________\n",
            "patch_embedding (patch_embeddin (None, 64, 768)      836352      patch_extract[0][0]              \n",
            "__________________________________________________________________________________________________\n",
            "transunet_ViT_0_layer_norm_1 (L (None, 64, 768)      1536        patch_embedding[0][0]            \n",
            "__________________________________________________________________________________________________\n",
            "transunet_ViT_0_atten (MultiHea (None, 64, 768)      28339968    transunet_ViT_0_layer_norm_1[0][0\n",
            "                                                                 transunet_ViT_0_layer_norm_1[0][0\n",
            "__________________________________________________________________________________________________\n",
            "transunet_ViT_0_skip_1 (Add)    (None, 64, 768)      0           transunet_ViT_0_atten[0][0]      \n",
            "                                                                 patch_embedding[0][0]            \n",
            "__________________________________________________________________________________________________\n",
            "transunet_ViT_0_layer_norm_2 (L (None, 64, 768)      1536        transunet_ViT_0_skip_1[0][0]     \n",
            "__________________________________________________________________________________________________\n",
            "transunet_ViT_0_mlp_dense_0 (De (None, 64, 3072)     2362368     transunet_ViT_0_layer_norm_2[0][0\n",
            "__________________________________________________________________________________________________\n",
            "transunet_ViT_0_mlp_activation_ (None, 64, 3072)     0           transunet_ViT_0_mlp_dense_0[0][0]\n",
            "__________________________________________________________________________________________________\n",
            "transunet_ViT_0_mlp_dense_1 (De (None, 64, 768)      2360064     transunet_ViT_0_mlp_activation_0[\n",
            "__________________________________________________________________________________________________\n",
            "transunet_ViT_0_mlp_activation_ (None, 64, 768)      0           transunet_ViT_0_mlp_dense_1[0][0]\n",
            "__________________________________________________________________________________________________\n",
            "transunet_ViT_0_skip_2 (Add)    (None, 64, 768)      0           transunet_ViT_0_mlp_activation_1[\n",
            "                                                                 transunet_ViT_0_skip_1[0][0]     \n",
            "__________________________________________________________________________________________________\n",
            "transunet_ViT_1_layer_norm_1 (L (None, 64, 768)      1536        transunet_ViT_0_skip_2[0][0]     \n",
            "__________________________________________________________________________________________________\n",
            "transunet_ViT_1_atten (MultiHea (None, 64, 768)      28339968    transunet_ViT_1_layer_norm_1[0][0\n",
            "                                                                 transunet_ViT_1_layer_norm_1[0][0\n",
            "__________________________________________________________________________________________________\n",
            "transunet_ViT_1_skip_1 (Add)    (None, 64, 768)      0           transunet_ViT_1_atten[0][0]      \n",
            "                                                                 transunet_ViT_0_skip_2[0][0]     \n",
            "__________________________________________________________________________________________________\n",
            "transunet_ViT_1_layer_norm_2 (L (None, 64, 768)      1536        transunet_ViT_1_skip_1[0][0]     \n",
            "__________________________________________________________________________________________________\n",
            "transunet_ViT_1_mlp_dense_0 (De (None, 64, 3072)     2362368     transunet_ViT_1_layer_norm_2[0][0\n",
            "__________________________________________________________________________________________________\n",
            "transunet_ViT_1_mlp_activation_ (None, 64, 3072)     0           transunet_ViT_1_mlp_dense_0[0][0]\n",
            "__________________________________________________________________________________________________\n",
            "transunet_ViT_1_mlp_dense_1 (De (None, 64, 768)      2360064     transunet_ViT_1_mlp_activation_0[\n",
            "__________________________________________________________________________________________________\n",
            "transunet_ViT_1_mlp_activation_ (None, 64, 768)      0           transunet_ViT_1_mlp_dense_1[0][0]\n",
            "__________________________________________________________________________________________________\n",
            "transunet_ViT_1_skip_2 (Add)    (None, 64, 768)      0           transunet_ViT_1_mlp_activation_1[\n",
            "                                                                 transunet_ViT_1_skip_1[0][0]     \n",
            "__________________________________________________________________________________________________\n",
            "transunet_ViT_2_layer_norm_1 (L (None, 64, 768)      1536        transunet_ViT_1_skip_2[0][0]     \n",
            "__________________________________________________________________________________________________\n",
            "transunet_ViT_2_atten (MultiHea (None, 64, 768)      28339968    transunet_ViT_2_layer_norm_1[0][0\n",
            "                                                                 transunet_ViT_2_layer_norm_1[0][0\n",
            "__________________________________________________________________________________________________\n",
            "transunet_ViT_2_skip_1 (Add)    (None, 64, 768)      0           transunet_ViT_2_atten[0][0]      \n",
            "                                                                 transunet_ViT_1_skip_2[0][0]     \n",
            "__________________________________________________________________________________________________\n",
            "transunet_ViT_2_layer_norm_2 (L (None, 64, 768)      1536        transunet_ViT_2_skip_1[0][0]     \n",
            "__________________________________________________________________________________________________\n",
            "transunet_ViT_2_mlp_dense_0 (De (None, 64, 3072)     2362368     transunet_ViT_2_layer_norm_2[0][0\n",
            "__________________________________________________________________________________________________\n",
            "transunet_ViT_2_mlp_activation_ (None, 64, 3072)     0           transunet_ViT_2_mlp_dense_0[0][0]\n",
            "__________________________________________________________________________________________________\n",
            "transunet_ViT_2_mlp_dense_1 (De (None, 64, 768)      2360064     transunet_ViT_2_mlp_activation_0[\n",
            "__________________________________________________________________________________________________\n",
            "transunet_ViT_2_mlp_activation_ (None, 64, 768)      0           transunet_ViT_2_mlp_dense_1[0][0]\n",
            "__________________________________________________________________________________________________\n",
            "transunet_ViT_2_skip_2 (Add)    (None, 64, 768)      0           transunet_ViT_2_mlp_activation_1[\n",
            "                                                                 transunet_ViT_2_skip_1[0][0]     \n",
            "__________________________________________________________________________________________________\n",
            "transunet_ViT_3_layer_norm_1 (L (None, 64, 768)      1536        transunet_ViT_2_skip_2[0][0]     \n",
            "__________________________________________________________________________________________________\n",
            "transunet_ViT_3_atten (MultiHea (None, 64, 768)      28339968    transunet_ViT_3_layer_norm_1[0][0\n",
            "                                                                 transunet_ViT_3_layer_norm_1[0][0\n",
            "__________________________________________________________________________________________________\n",
            "transunet_ViT_3_skip_1 (Add)    (None, 64, 768)      0           transunet_ViT_3_atten[0][0]      \n",
            "                                                                 transunet_ViT_2_skip_2[0][0]     \n",
            "__________________________________________________________________________________________________\n",
            "transunet_ViT_3_layer_norm_2 (L (None, 64, 768)      1536        transunet_ViT_3_skip_1[0][0]     \n",
            "__________________________________________________________________________________________________\n",
            "transunet_ViT_3_mlp_dense_0 (De (None, 64, 3072)     2362368     transunet_ViT_3_layer_norm_2[0][0\n",
            "__________________________________________________________________________________________________\n",
            "transunet_ViT_3_mlp_activation_ (None, 64, 3072)     0           transunet_ViT_3_mlp_dense_0[0][0]\n",
            "__________________________________________________________________________________________________\n",
            "transunet_ViT_3_mlp_dense_1 (De (None, 64, 768)      2360064     transunet_ViT_3_mlp_activation_0[\n",
            "__________________________________________________________________________________________________\n",
            "transunet_ViT_3_mlp_activation_ (None, 64, 768)      0           transunet_ViT_3_mlp_dense_1[0][0]\n",
            "__________________________________________________________________________________________________\n",
            "transunet_ViT_3_skip_2 (Add)    (None, 64, 768)      0           transunet_ViT_3_mlp_activation_1[\n",
            "                                                                 transunet_ViT_3_skip_1[0][0]     \n",
            "__________________________________________________________________________________________________\n",
            "transunet_ViT_4_layer_norm_1 (L (None, 64, 768)      1536        transunet_ViT_3_skip_2[0][0]     \n",
            "__________________________________________________________________________________________________\n",
            "transunet_ViT_4_atten (MultiHea (None, 64, 768)      28339968    transunet_ViT_4_layer_norm_1[0][0\n",
            "                                                                 transunet_ViT_4_layer_norm_1[0][0\n",
            "__________________________________________________________________________________________________\n",
            "transunet_ViT_4_skip_1 (Add)    (None, 64, 768)      0           transunet_ViT_4_atten[0][0]      \n",
            "                                                                 transunet_ViT_3_skip_2[0][0]     \n",
            "__________________________________________________________________________________________________\n",
            "transunet_ViT_4_layer_norm_2 (L (None, 64, 768)      1536        transunet_ViT_4_skip_1[0][0]     \n",
            "__________________________________________________________________________________________________\n",
            "transunet_ViT_4_mlp_dense_0 (De (None, 64, 3072)     2362368     transunet_ViT_4_layer_norm_2[0][0\n",
            "__________________________________________________________________________________________________\n",
            "transunet_ViT_4_mlp_activation_ (None, 64, 3072)     0           transunet_ViT_4_mlp_dense_0[0][0]\n",
            "__________________________________________________________________________________________________\n",
            "transunet_ViT_4_mlp_dense_1 (De (None, 64, 768)      2360064     transunet_ViT_4_mlp_activation_0[\n",
            "__________________________________________________________________________________________________\n",
            "transunet_ViT_4_mlp_activation_ (None, 64, 768)      0           transunet_ViT_4_mlp_dense_1[0][0]\n",
            "__________________________________________________________________________________________________\n",
            "transunet_ViT_4_skip_2 (Add)    (None, 64, 768)      0           transunet_ViT_4_mlp_activation_1[\n",
            "                                                                 transunet_ViT_4_skip_1[0][0]     \n",
            "__________________________________________________________________________________________________\n",
            "transunet_ViT_5_layer_norm_1 (L (None, 64, 768)      1536        transunet_ViT_4_skip_2[0][0]     \n",
            "__________________________________________________________________________________________________\n",
            "transunet_ViT_5_atten (MultiHea (None, 64, 768)      28339968    transunet_ViT_5_layer_norm_1[0][0\n",
            "                                                                 transunet_ViT_5_layer_norm_1[0][0\n",
            "__________________________________________________________________________________________________\n",
            "transunet_ViT_5_skip_1 (Add)    (None, 64, 768)      0           transunet_ViT_5_atten[0][0]      \n",
            "                                                                 transunet_ViT_4_skip_2[0][0]     \n",
            "__________________________________________________________________________________________________\n",
            "transunet_ViT_5_layer_norm_2 (L (None, 64, 768)      1536        transunet_ViT_5_skip_1[0][0]     \n",
            "__________________________________________________________________________________________________\n",
            "transunet_ViT_5_mlp_dense_0 (De (None, 64, 3072)     2362368     transunet_ViT_5_layer_norm_2[0][0\n",
            "__________________________________________________________________________________________________\n",
            "transunet_ViT_5_mlp_activation_ (None, 64, 3072)     0           transunet_ViT_5_mlp_dense_0[0][0]\n",
            "__________________________________________________________________________________________________\n",
            "transunet_ViT_5_mlp_dense_1 (De (None, 64, 768)      2360064     transunet_ViT_5_mlp_activation_0[\n",
            "__________________________________________________________________________________________________\n",
            "transunet_ViT_5_mlp_activation_ (None, 64, 768)      0           transunet_ViT_5_mlp_dense_1[0][0]\n",
            "__________________________________________________________________________________________________\n",
            "transunet_ViT_5_skip_2 (Add)    (None, 64, 768)      0           transunet_ViT_5_mlp_activation_1[\n",
            "                                                                 transunet_ViT_5_skip_1[0][0]     \n",
            "__________________________________________________________________________________________________\n",
            "transunet_ViT_6_layer_norm_1 (L (None, 64, 768)      1536        transunet_ViT_5_skip_2[0][0]     \n",
            "__________________________________________________________________________________________________\n",
            "transunet_ViT_6_atten (MultiHea (None, 64, 768)      28339968    transunet_ViT_6_layer_norm_1[0][0\n",
            "                                                                 transunet_ViT_6_layer_norm_1[0][0\n",
            "__________________________________________________________________________________________________\n",
            "transunet_ViT_6_skip_1 (Add)    (None, 64, 768)      0           transunet_ViT_6_atten[0][0]      \n",
            "                                                                 transunet_ViT_5_skip_2[0][0]     \n",
            "__________________________________________________________________________________________________\n",
            "transunet_ViT_6_layer_norm_2 (L (None, 64, 768)      1536        transunet_ViT_6_skip_1[0][0]     \n",
            "__________________________________________________________________________________________________\n",
            "transunet_ViT_6_mlp_dense_0 (De (None, 64, 3072)     2362368     transunet_ViT_6_layer_norm_2[0][0\n",
            "__________________________________________________________________________________________________\n",
            "transunet_ViT_6_mlp_activation_ (None, 64, 3072)     0           transunet_ViT_6_mlp_dense_0[0][0]\n",
            "__________________________________________________________________________________________________\n",
            "transunet_ViT_6_mlp_dense_1 (De (None, 64, 768)      2360064     transunet_ViT_6_mlp_activation_0[\n",
            "__________________________________________________________________________________________________\n",
            "transunet_ViT_6_mlp_activation_ (None, 64, 768)      0           transunet_ViT_6_mlp_dense_1[0][0]\n",
            "__________________________________________________________________________________________________\n",
            "transunet_ViT_6_skip_2 (Add)    (None, 64, 768)      0           transunet_ViT_6_mlp_activation_1[\n",
            "                                                                 transunet_ViT_6_skip_1[0][0]     \n",
            "__________________________________________________________________________________________________\n",
            "transunet_ViT_7_layer_norm_1 (L (None, 64, 768)      1536        transunet_ViT_6_skip_2[0][0]     \n",
            "__________________________________________________________________________________________________\n",
            "transunet_ViT_7_atten (MultiHea (None, 64, 768)      28339968    transunet_ViT_7_layer_norm_1[0][0\n",
            "                                                                 transunet_ViT_7_layer_norm_1[0][0\n",
            "__________________________________________________________________________________________________\n",
            "transunet_ViT_7_skip_1 (Add)    (None, 64, 768)      0           transunet_ViT_7_atten[0][0]      \n",
            "                                                                 transunet_ViT_6_skip_2[0][0]     \n",
            "__________________________________________________________________________________________________\n",
            "transunet_ViT_7_layer_norm_2 (L (None, 64, 768)      1536        transunet_ViT_7_skip_1[0][0]     \n",
            "__________________________________________________________________________________________________\n",
            "transunet_ViT_7_mlp_dense_0 (De (None, 64, 3072)     2362368     transunet_ViT_7_layer_norm_2[0][0\n",
            "__________________________________________________________________________________________________\n",
            "transunet_ViT_7_mlp_activation_ (None, 64, 3072)     0           transunet_ViT_7_mlp_dense_0[0][0]\n",
            "__________________________________________________________________________________________________\n",
            "transunet_ViT_7_mlp_dense_1 (De (None, 64, 768)      2360064     transunet_ViT_7_mlp_activation_0[\n",
            "__________________________________________________________________________________________________\n",
            "transunet_ViT_7_mlp_activation_ (None, 64, 768)      0           transunet_ViT_7_mlp_dense_1[0][0]\n",
            "__________________________________________________________________________________________________\n",
            "transunet_ViT_7_skip_2 (Add)    (None, 64, 768)      0           transunet_ViT_7_mlp_activation_1[\n",
            "                                                                 transunet_ViT_7_skip_1[0][0]     \n",
            "__________________________________________________________________________________________________\n",
            "transunet_ViT_8_layer_norm_1 (L (None, 64, 768)      1536        transunet_ViT_7_skip_2[0][0]     \n",
            "__________________________________________________________________________________________________\n",
            "transunet_ViT_8_atten (MultiHea (None, 64, 768)      28339968    transunet_ViT_8_layer_norm_1[0][0\n",
            "                                                                 transunet_ViT_8_layer_norm_1[0][0\n",
            "__________________________________________________________________________________________________\n",
            "transunet_ViT_8_skip_1 (Add)    (None, 64, 768)      0           transunet_ViT_8_atten[0][0]      \n",
            "                                                                 transunet_ViT_7_skip_2[0][0]     \n",
            "__________________________________________________________________________________________________\n",
            "transunet_ViT_8_layer_norm_2 (L (None, 64, 768)      1536        transunet_ViT_8_skip_1[0][0]     \n",
            "__________________________________________________________________________________________________\n",
            "transunet_ViT_8_mlp_dense_0 (De (None, 64, 3072)     2362368     transunet_ViT_8_layer_norm_2[0][0\n",
            "__________________________________________________________________________________________________\n",
            "transunet_ViT_8_mlp_activation_ (None, 64, 3072)     0           transunet_ViT_8_mlp_dense_0[0][0]\n",
            "__________________________________________________________________________________________________\n",
            "transunet_ViT_8_mlp_dense_1 (De (None, 64, 768)      2360064     transunet_ViT_8_mlp_activation_0[\n",
            "__________________________________________________________________________________________________\n",
            "transunet_ViT_8_mlp_activation_ (None, 64, 768)      0           transunet_ViT_8_mlp_dense_1[0][0]\n",
            "__________________________________________________________________________________________________\n",
            "transunet_ViT_8_skip_2 (Add)    (None, 64, 768)      0           transunet_ViT_8_mlp_activation_1[\n",
            "                                                                 transunet_ViT_8_skip_1[0][0]     \n",
            "__________________________________________________________________________________________________\n",
            "transunet_ViT_9_layer_norm_1 (L (None, 64, 768)      1536        transunet_ViT_8_skip_2[0][0]     \n",
            "__________________________________________________________________________________________________\n",
            "transunet_ViT_9_atten (MultiHea (None, 64, 768)      28339968    transunet_ViT_9_layer_norm_1[0][0\n",
            "                                                                 transunet_ViT_9_layer_norm_1[0][0\n",
            "__________________________________________________________________________________________________\n",
            "transunet_ViT_9_skip_1 (Add)    (None, 64, 768)      0           transunet_ViT_9_atten[0][0]      \n",
            "                                                                 transunet_ViT_8_skip_2[0][0]     \n",
            "__________________________________________________________________________________________________\n",
            "transunet_ViT_9_layer_norm_2 (L (None, 64, 768)      1536        transunet_ViT_9_skip_1[0][0]     \n",
            "__________________________________________________________________________________________________\n",
            "transunet_ViT_9_mlp_dense_0 (De (None, 64, 3072)     2362368     transunet_ViT_9_layer_norm_2[0][0\n",
            "__________________________________________________________________________________________________\n",
            "transunet_ViT_9_mlp_activation_ (None, 64, 3072)     0           transunet_ViT_9_mlp_dense_0[0][0]\n",
            "__________________________________________________________________________________________________\n",
            "transunet_ViT_9_mlp_dense_1 (De (None, 64, 768)      2360064     transunet_ViT_9_mlp_activation_0[\n",
            "__________________________________________________________________________________________________\n",
            "transunet_ViT_9_mlp_activation_ (None, 64, 768)      0           transunet_ViT_9_mlp_dense_1[0][0]\n",
            "__________________________________________________________________________________________________\n",
            "transunet_ViT_9_skip_2 (Add)    (None, 64, 768)      0           transunet_ViT_9_mlp_activation_1[\n",
            "                                                                 transunet_ViT_9_skip_1[0][0]     \n",
            "__________________________________________________________________________________________________\n",
            "transunet_ViT_10_layer_norm_1 ( (None, 64, 768)      1536        transunet_ViT_9_skip_2[0][0]     \n",
            "__________________________________________________________________________________________________\n",
            "transunet_ViT_10_atten (MultiHe (None, 64, 768)      28339968    transunet_ViT_10_layer_norm_1[0][\n",
            "                                                                 transunet_ViT_10_layer_norm_1[0][\n",
            "__________________________________________________________________________________________________\n",
            "transunet_ViT_10_skip_1 (Add)   (None, 64, 768)      0           transunet_ViT_10_atten[0][0]     \n",
            "                                                                 transunet_ViT_9_skip_2[0][0]     \n",
            "__________________________________________________________________________________________________\n",
            "transunet_ViT_10_layer_norm_2 ( (None, 64, 768)      1536        transunet_ViT_10_skip_1[0][0]    \n",
            "__________________________________________________________________________________________________\n",
            "transunet_ViT_10_mlp_dense_0 (D (None, 64, 3072)     2362368     transunet_ViT_10_layer_norm_2[0][\n",
            "__________________________________________________________________________________________________\n",
            "transunet_ViT_10_mlp_activation (None, 64, 3072)     0           transunet_ViT_10_mlp_dense_0[0][0\n",
            "__________________________________________________________________________________________________\n",
            "transunet_ViT_10_mlp_dense_1 (D (None, 64, 768)      2360064     transunet_ViT_10_mlp_activation_0\n",
            "__________________________________________________________________________________________________\n",
            "transunet_ViT_10_mlp_activation (None, 64, 768)      0           transunet_ViT_10_mlp_dense_1[0][0\n",
            "__________________________________________________________________________________________________\n",
            "transunet_ViT_10_skip_2 (Add)   (None, 64, 768)      0           transunet_ViT_10_mlp_activation_1\n",
            "                                                                 transunet_ViT_10_skip_1[0][0]    \n",
            "__________________________________________________________________________________________________\n",
            "transunet_ViT_11_layer_norm_1 ( (None, 64, 768)      1536        transunet_ViT_10_skip_2[0][0]    \n",
            "__________________________________________________________________________________________________\n",
            "transunet_ViT_11_atten (MultiHe (None, 64, 768)      28339968    transunet_ViT_11_layer_norm_1[0][\n",
            "                                                                 transunet_ViT_11_layer_norm_1[0][\n",
            "__________________________________________________________________________________________________\n",
            "transunet_ViT_11_skip_1 (Add)   (None, 64, 768)      0           transunet_ViT_11_atten[0][0]     \n",
            "                                                                 transunet_ViT_10_skip_2[0][0]    \n",
            "__________________________________________________________________________________________________\n",
            "transunet_ViT_11_layer_norm_2 ( (None, 64, 768)      1536        transunet_ViT_11_skip_1[0][0]    \n",
            "__________________________________________________________________________________________________\n",
            "transunet_ViT_11_mlp_dense_0 (D (None, 64, 3072)     2362368     transunet_ViT_11_layer_norm_2[0][\n",
            "__________________________________________________________________________________________________\n",
            "transunet_ViT_11_mlp_activation (None, 64, 3072)     0           transunet_ViT_11_mlp_dense_0[0][0\n",
            "__________________________________________________________________________________________________\n",
            "transunet_ViT_11_mlp_dense_1 (D (None, 64, 768)      2360064     transunet_ViT_11_mlp_activation_0\n",
            "__________________________________________________________________________________________________\n",
            "transunet_ViT_11_mlp_activation (None, 64, 768)      0           transunet_ViT_11_mlp_dense_1[0][0\n",
            "__________________________________________________________________________________________________\n",
            "transunet_ViT_11_skip_2 (Add)   (None, 64, 768)      0           transunet_ViT_11_mlp_activation_1\n",
            "                                                                 transunet_ViT_11_skip_1[0][0]    \n",
            "__________________________________________________________________________________________________\n",
            "tf.reshape (TFOpLambda)         (None, 8, 8, 768)    0           transunet_ViT_11_skip_2[0][0]    \n",
            "__________________________________________________________________________________________________\n",
            "transunet_conv_trans_after (Con (None, 8, 8, 1024)   786432      tf.reshape[0][0]                 \n",
            "__________________________________________________________________________________________________\n",
            "transunet_up0_decode_unpool (Up (None, 16, 16, 1024) 0           transunet_conv_trans_after[0][0] \n",
            "__________________________________________________________________________________________________\n",
            "transunet_up0_conv_before_conca (None, 16, 16, 512)  4719104     transunet_up0_decode_unpool[0][0]\n",
            "__________________________________________________________________________________________________\n",
            "transunet_up0_conv_before_conca (None, 16, 16, 512)  0           transunet_up0_conv_before_concat_\n",
            "__________________________________________________________________________________________________\n",
            "transunet_up0_concat (Concatena (None, 16, 16, 1024) 0           transunet_up0_conv_before_concat_\n",
            "                                                                 VGG16_backbone[0][3]             \n",
            "__________________________________________________________________________________________________\n",
            "transunet_up0_conv_after_concat (None, 16, 16, 512)  4719104     transunet_up0_concat[0][0]       \n",
            "__________________________________________________________________________________________________\n",
            "transunet_up0_conv_after_concat (None, 16, 16, 512)  0           transunet_up0_conv_after_concat_0\n",
            "__________________________________________________________________________________________________\n",
            "transunet_up0_conv_after_concat (None, 16, 16, 512)  2359808     transunet_up0_conv_after_concat_0\n",
            "__________________________________________________________________________________________________\n",
            "transunet_up0_conv_after_concat (None, 16, 16, 512)  0           transunet_up0_conv_after_concat_1\n",
            "__________________________________________________________________________________________________\n",
            "transunet_up1_decode_unpool (Up (None, 32, 32, 512)  0           transunet_up0_conv_after_concat_1\n",
            "__________________________________________________________________________________________________\n",
            "transunet_up1_conv_before_conca (None, 32, 32, 256)  1179904     transunet_up1_decode_unpool[0][0]\n",
            "__________________________________________________________________________________________________\n",
            "transunet_up1_conv_before_conca (None, 32, 32, 256)  0           transunet_up1_conv_before_concat_\n",
            "__________________________________________________________________________________________________\n",
            "transunet_up1_concat (Concatena (None, 32, 32, 512)  0           transunet_up1_conv_before_concat_\n",
            "                                                                 VGG16_backbone[0][2]             \n",
            "__________________________________________________________________________________________________\n",
            "transunet_up1_conv_after_concat (None, 32, 32, 256)  1179904     transunet_up1_concat[0][0]       \n",
            "__________________________________________________________________________________________________\n",
            "transunet_up1_conv_after_concat (None, 32, 32, 256)  0           transunet_up1_conv_after_concat_0\n",
            "__________________________________________________________________________________________________\n",
            "transunet_up1_conv_after_concat (None, 32, 32, 256)  590080      transunet_up1_conv_after_concat_0\n",
            "__________________________________________________________________________________________________\n",
            "transunet_up1_conv_after_concat (None, 32, 32, 256)  0           transunet_up1_conv_after_concat_1\n",
            "__________________________________________________________________________________________________\n",
            "transunet_up2_decode_unpool (Up (None, 64, 64, 256)  0           transunet_up1_conv_after_concat_1\n",
            "__________________________________________________________________________________________________\n",
            "transunet_up2_conv_before_conca (None, 64, 64, 128)  295040      transunet_up2_decode_unpool[0][0]\n",
            "__________________________________________________________________________________________________\n",
            "transunet_up2_conv_before_conca (None, 64, 64, 128)  0           transunet_up2_conv_before_concat_\n",
            "__________________________________________________________________________________________________\n",
            "transunet_up2_concat (Concatena (None, 64, 64, 256)  0           transunet_up2_conv_before_concat_\n",
            "                                                                 VGG16_backbone[0][1]             \n",
            "__________________________________________________________________________________________________\n",
            "transunet_up2_conv_after_concat (None, 64, 64, 128)  295040      transunet_up2_concat[0][0]       \n",
            "__________________________________________________________________________________________________\n",
            "transunet_up2_conv_after_concat (None, 64, 64, 128)  0           transunet_up2_conv_after_concat_0\n",
            "__________________________________________________________________________________________________\n",
            "transunet_up2_conv_after_concat (None, 64, 64, 128)  147584      transunet_up2_conv_after_concat_0\n",
            "__________________________________________________________________________________________________\n",
            "transunet_up2_conv_after_concat (None, 64, 64, 128)  0           transunet_up2_conv_after_concat_1\n",
            "__________________________________________________________________________________________________\n",
            "transunet_up3_decode_unpool (Up (None, 128, 128, 128 0           transunet_up2_conv_after_concat_1\n",
            "__________________________________________________________________________________________________\n",
            "transunet_up3_conv_before_conca (None, 128, 128, 64) 73792       transunet_up3_decode_unpool[0][0]\n",
            "__________________________________________________________________________________________________\n",
            "transunet_up3_conv_before_conca (None, 128, 128, 64) 0           transunet_up3_conv_before_concat_\n",
            "__________________________________________________________________________________________________\n",
            "transunet_up3_concat (Concatena (None, 128, 128, 128 0           transunet_up3_conv_before_concat_\n",
            "                                                                 VGG16_backbone[0][0]             \n",
            "__________________________________________________________________________________________________\n",
            "transunet_up3_conv_after_concat (None, 128, 128, 64) 73792       transunet_up3_concat[0][0]       \n",
            "__________________________________________________________________________________________________\n",
            "transunet_up3_conv_after_concat (None, 128, 128, 64) 0           transunet_up3_conv_after_concat_0\n",
            "__________________________________________________________________________________________________\n",
            "transunet_up3_conv_after_concat (None, 128, 128, 64) 36928       transunet_up3_conv_after_concat_0\n",
            "__________________________________________________________________________________________________\n",
            "transunet_up3_conv_after_concat (None, 128, 128, 64) 0           transunet_up3_conv_after_concat_1\n",
            "__________________________________________________________________________________________________\n",
            "transunet_output (Conv2D)       (None, 128, 128, 2)  130         transunet_up3_conv_after_concat_1\n",
            "__________________________________________________________________________________________________\n",
            "transunet_output_activation (So (None, 128, 128, 2)  0           transunet_output[0][0]           \n",
            "==================================================================================================\n",
            "Total params: 429,317,634\n",
            "Trainable params: 414,602,946\n",
            "Non-trainable params: 14,714,688\n",
            "__________________________________________________________________________________________________\n"
          ],
          "name": "stdout"
        }
      ]
    }
  ]
}